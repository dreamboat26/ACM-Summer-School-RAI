{
  "cells": [
    {
      "cell_type": "code",
      "execution_count": null,
      "metadata": {
        "id": "HiM9kyTIzqKe"
      },
      "outputs": [],
      "source": [
        "# Imports\n",
        "\n",
        "from torchvision import datasets, transforms\n",
        "from torch.utils.data import DataLoader\n",
        "import torch\n",
        "import torch.nn as nn\n",
        "import torch.optim as optim\n",
        "import torch.nn.functional as F\n",
        "import numpy as np\n",
        "import matplotlib.pyplot as plt"
      ]
    },
    {
      "cell_type": "markdown",
      "source": [
        "## Training a model"
      ],
      "metadata": {
        "id": "h9NYPCIB8tzN"
      }
    },
    {
      "cell_type": "code",
      "execution_count": null,
      "metadata": {
        "colab": {
          "base_uri": "https://localhost:8080/"
        },
        "id": "9P_eQukCzqKi",
        "outputId": "bdc60135-e869-4ff6-d40d-3145a4f3ed52"
      },
      "outputs": [
        {
          "output_type": "stream",
          "name": "stdout",
          "text": [
            "CUDA Available:  True\n"
          ]
        }
      ],
      "source": [
        "# Prelims\n",
        "torch.manual_seed(42)\n",
        "\n",
        "print(\"CUDA Available: \",torch.cuda.is_available())\n",
        "device = torch.device(\"cuda\" if torch.cuda.is_available() else \"cpu\")"
      ]
    },
    {
      "cell_type": "code",
      "execution_count": null,
      "metadata": {
        "id": "1S49bMDJzqKj"
      },
      "outputs": [],
      "source": [
        "# Defining the network\n",
        "\n",
        "class Net(nn.Module):\n",
        "    def __init__(self):\n",
        "        super(Net, self).__init__()\n",
        "        self.conv1 = nn.Conv2d(1, 32, 3, 1)\n",
        "        self.conv2 = nn.Conv2d(32, 64, 3, 1)\n",
        "        self.dropout1 = nn.Dropout(0.25)\n",
        "        self.dropout2 = nn.Dropout(0.5)\n",
        "        self.fc1 = nn.Linear(9216, 128)\n",
        "        self.fc2 = nn.Linear(128, 10)\n",
        "\n",
        "    def forward(self, x):\n",
        "        x = self.conv1(x)\n",
        "        x = F.relu(x)\n",
        "        x = self.conv2(x)\n",
        "        x = F.relu(x)\n",
        "        x = F.max_pool2d(x, 2)\n",
        "        x = self.dropout1(x)\n",
        "        x = torch.flatten(x, 1)\n",
        "        x = self.fc1(x)\n",
        "        x = F.relu(x)\n",
        "        x = self.dropout2(x)\n",
        "        x = self.fc2(x)\n",
        "        output = F.log_softmax(x, dim=1)\n",
        "        return output"
      ]
    },
    {
      "cell_type": "code",
      "execution_count": null,
      "metadata": {
        "id": "ptfXZ3VVzqKj"
      },
      "outputs": [],
      "source": [
        "# MNIST dataset and dataloader declaration\n",
        "\n",
        "train_loader = torch.utils.data.DataLoader(\n",
        "    datasets.MNIST('./data', train=True, download=True, transform=transforms.Compose([\n",
        "            transforms.ToTensor(),\n",
        "            transforms.Normalize((0.1307,), (0.3081,)),\n",
        "            ])),\n",
        "        batch_size=64, shuffle=True)\n",
        "\n",
        "test_loader = torch.utils.data.DataLoader(\n",
        "    datasets.MNIST('./data', train=False, download=True, transform=transforms.Compose([\n",
        "            transforms.ToTensor(),\n",
        "            transforms.Normalize((0.1307,), (0.3081,)),\n",
        "            ])),\n",
        "        batch_size=1, shuffle=True)\n"
      ]
    },
    {
      "cell_type": "code",
      "execution_count": null,
      "metadata": {
        "id": "XvmRyRQCzqKk"
      },
      "outputs": [],
      "source": [
        "def train(model, device, train_loader, optimizer, epoch):\n",
        "    model.train()\n",
        "    for batch_idx, (data, target) in enumerate(train_loader):\n",
        "        data, target = data.to(device), target.to(device)\n",
        "        optimizer.zero_grad()\n",
        "        output = model(data)\n",
        "        loss = F.cross_entropy(output, target)\n",
        "        loss.backward()\n",
        "        optimizer.step()\n",
        "        if batch_idx % 100 == 0:\n",
        "            print('Train Epoch: {} [{}/{} ({:.0f}%)]\\tLoss: {:.6f}'.format(\n",
        "                epoch, batch_idx * len(data), len(train_loader.dataset),\n",
        "                100. * batch_idx / len(train_loader), loss.item()))\n",
        "\n",
        "def test(model, device, data_loader, set_name=\"Test\"):\n",
        "    model.eval()\n",
        "    test_loss = 0\n",
        "    correct = 0\n",
        "    with torch.no_grad():\n",
        "        for data, target in data_loader:\n",
        "            data, target = data.to(device), target.to(device)\n",
        "            output = model(data)\n",
        "            test_loss += F.cross_entropy(output, target, reduction='sum').item()  # sum up batch loss\n",
        "            pred = output.argmax(dim=1, keepdim=True)  # get the index of the max log-probability\n",
        "            correct += pred.eq(target.view_as(pred)).sum().item()\n",
        "\n",
        "    test_loss /= len(data_loader.dataset)\n",
        "\n",
        "    print('{} set: Average loss: {:.4f}, Accuracy: {}/{} ({:.0f}%)\\n'.format(\n",
        "        set_name,test_loss, correct, len(data_loader.dataset),\n",
        "        100. * correct / len(data_loader.dataset)))\n",
        "    return 100. * correct / len(data_loader.dataset)"
      ]
    },
    {
      "cell_type": "code",
      "execution_count": null,
      "metadata": {
        "colab": {
          "base_uri": "https://localhost:8080/"
        },
        "id": "9EnCYPLAzqKk",
        "outputId": "1945efda-b57d-43f1-9616-98b1bcec2696"
      },
      "outputs": [
        {
          "output_type": "stream",
          "name": "stdout",
          "text": [
            "Test set: Average loss: 2.3129, Accuracy: 842/10000 (8%)\n",
            "\n",
            "Train Epoch: 1 [0/60000 (0%)]\tLoss: 2.315993\n",
            "Train Epoch: 1 [6400/60000 (11%)]\tLoss: 0.204952\n",
            "Train Epoch: 1 [12800/60000 (21%)]\tLoss: 0.237592\n",
            "Train Epoch: 1 [19200/60000 (32%)]\tLoss: 0.225074\n",
            "Train Epoch: 1 [25600/60000 (43%)]\tLoss: 0.177442\n",
            "Train Epoch: 1 [32000/60000 (53%)]\tLoss: 0.299098\n",
            "Train Epoch: 1 [38400/60000 (64%)]\tLoss: 0.081390\n",
            "Train Epoch: 1 [44800/60000 (75%)]\tLoss: 0.183991\n",
            "Train Epoch: 1 [51200/60000 (85%)]\tLoss: 0.187173\n",
            "Train Epoch: 1 [57600/60000 (96%)]\tLoss: 0.098213\n",
            "Train set: Average loss: 0.0442, Accuracy: 59198/60000 (99%)\n",
            "\n",
            "Test set: Average loss: 0.0498, Accuracy: 9832/10000 (98%)\n",
            "\n"
          ]
        }
      ],
      "source": [
        "# Initialize, Train and Test the network\n",
        "model = Net().to(device)\n",
        "\n",
        "optimizer = optim.Adam(model.parameters(), lr=0.001)\n",
        "\n",
        "test(model, device, test_loader)\n",
        "for epoch in range(1, 2):\n",
        "    train(model, device, train_loader, optimizer, epoch)\n",
        "    test(model, device, train_loader, \"Train\")\n",
        "    test(model, device, test_loader)"
      ]
    },
    {
      "cell_type": "markdown",
      "metadata": {
        "id": "ark3yCOXzqKn"
      },
      "source": [
        "## FGSM Attack"
      ]
    },
    {
      "cell_type": "markdown",
      "source": [
        "### Untargeted"
      ],
      "metadata": {
        "id": "2fPZsD6LwmQP"
      }
    },
    {
      "cell_type": "code",
      "execution_count": null,
      "metadata": {
        "id": "GaZdJZXLzqKn"
      },
      "outputs": [],
      "source": [
        "def untargeted_fgsm_attack(image, epsilon, data_grad):\n",
        "    sign_data_grad = data_grad.sign()\n",
        "    perturbed_image = image + epsilon*sign_data_grad\n",
        "    perturbed_image = torch.clamp(perturbed_image, 0, 1)\n",
        "    return perturbed_image"
      ]
    },
    {
      "cell_type": "code",
      "source": [
        "def denormalize(batch, mean=0.1307, std=0.3081):\n",
        "    mean = torch.tensor(mean)\n",
        "    std = torch.tensor(std)\n",
        "    batch = batch * std + mean\n",
        "    return batch"
      ],
      "metadata": {
        "id": "kkzFlD5ATV04"
      },
      "execution_count": null,
      "outputs": []
    },
    {
      "cell_type": "code",
      "execution_count": null,
      "metadata": {
        "id": "yifzLqhJzqKn"
      },
      "outputs": [],
      "source": [
        "def test_untargeted_fgsm_attack(model, device, dataloader, epsilon=0.2):\n",
        "     # Accuracy counter\n",
        "    correct = 0\n",
        "    total = 0\n",
        "    adv_examples = []\n",
        "\n",
        "    for data, label in dataloader:\n",
        "        data, label = data.to(device), label.to(device)\n",
        "        # Set requires_grad attribute of tensor. Important for Attack\n",
        "        data.requires_grad = True\n",
        "        output = model(data)\n",
        "        init_pred = output.argmax(1, keepdim=True) # get the index (predicted label)\n",
        "\n",
        "        # If its already wrong, ignore the example\n",
        "        if init_pred.item() != label.item():\n",
        "            continue\n",
        "\n",
        "        loss = F.cross_entropy(output, label)\n",
        "\n",
        "        model.zero_grad()\n",
        "        loss.backward()\n",
        "        data_grad = data.grad.data\n",
        "        data_denorm = denormalize(data)\n",
        "\n",
        "        # FGSM Attack\n",
        "        perturbed_data = untargeted_fgsm_attack(data_denorm, epsilon, data_grad)\n",
        "\n",
        "        perturbed_data_normalized = transforms.Normalize((0.1307,), (0.3081,))(perturbed_data)\n",
        "\n",
        "        # Re-classify the perturbed image\n",
        "        output = model(perturbed_data_normalized)\n",
        "\n",
        "        final_pred = output.argmax(1, keepdim=True) # get the index of the max log-probability\n",
        "\n",
        "        for i in range(len(final_pred)):\n",
        "            if final_pred[i] == label[i]:\n",
        "                correct+=1\n",
        "                if (epsilon == 0) and len(adv_examples) < 5:\n",
        "                    adv_ex = perturbed_data.squeeze().detach().cpu().numpy()\n",
        "                    adv_examples.append((init_pred[i].item(), final_pred[i].item(), adv_ex))\n",
        "            else:\n",
        "                # Save examples for visualization later\n",
        "                if len(adv_examples) < 5:\n",
        "                    adv_ex = perturbed_data.squeeze().detach().cpu().numpy()\n",
        "                    adv_examples.append((init_pred[i].item(), final_pred[i].item(), adv_ex))\n",
        "            total += 1\n",
        "\n",
        "    # Calculate final accuracy for this epsilon\n",
        "    final_acc = correct/float(len(dataloader.dataset))\n",
        "    print(f\"Epsilon: {epsilon}\\tTest Accuracy = {correct} / {len(dataloader.dataset)} = {final_acc}\")\n",
        "\n",
        "    # Return the accuracy and an adversarial example\n",
        "    return final_acc, adv_examples\n"
      ]
    },
    {
      "cell_type": "code",
      "execution_count": null,
      "metadata": {
        "colab": {
          "base_uri": "https://localhost:8080/",
          "height": 556
        },
        "id": "MtWXR8HzzqKo",
        "outputId": "358201c5-5d21-427c-de27-c747d56276c5"
      },
      "outputs": [
        {
          "output_type": "stream",
          "name": "stdout",
          "text": [
            "Epsilon: 0\tTest Accuracy = 9832 / 10000 = 0.9832\n",
            "Epsilon: 0.05\tTest Accuracy = 9559 / 10000 = 0.9559\n",
            "Epsilon: 0.15\tTest Accuracy = 7521 / 10000 = 0.7521\n",
            "Epsilon: 0.3\tTest Accuracy = 1493 / 10000 = 0.1493\n"
          ]
        },
        {
          "output_type": "display_data",
          "data": {
            "text/plain": [
              "<Figure size 500x500 with 1 Axes>"
            ],
            "image/png": "[encoded data removed]"
          },
          "metadata": {}
        }
      ],
      "source": [
        "epsilons = [0, .05, .15, .3]\n",
        "\n",
        "accuracies = []\n",
        "examples = []\n",
        "\n",
        "# Run test for each epsilon\n",
        "for eps in epsilons:\n",
        "    acc, ex = test_untargeted_fgsm_attack(model, device, test_loader, eps)\n",
        "    accuracies.append(acc)\n",
        "    examples.append(ex)\n",
        "\n",
        "plt.figure(figsize=(5,5))\n",
        "plt.plot(epsilons, accuracies, \"*-\")\n",
        "plt.yticks(np.arange(0, 1.1, step=0.1))\n",
        "plt.xticks(np.arange(0, .35, step=0.05))\n",
        "plt.title(\"Accuracy vs Epsilon\")\n",
        "plt.xlabel(\"Epsilon\")\n",
        "plt.ylabel(\"Accuracy\")\n",
        "plt.show()"
      ]
    },
    {
      "cell_type": "code",
      "source": [
        "# Plot several examples of adversarial samples at each epsilon\n",
        "cnt = 0\n",
        "plt.figure(figsize=(8,10))\n",
        "for i in range(len(epsilons)):\n",
        "    for j in range(len(examples[i])):\n",
        "        cnt += 1\n",
        "        plt.subplot(len(epsilons),len(examples[0]),cnt)\n",
        "        plt.xticks([], [])\n",
        "        plt.yticks([], [])\n",
        "        if j == 0:\n",
        "            plt.ylabel(f\"Eps: {epsilons[i]}\", fontsize=14)\n",
        "        orig,adv,ex = examples[i][j]\n",
        "        plt.title(f\"{orig} -> {adv}\")\n",
        "        plt.imshow(ex, cmap=\"gray\")\n",
        "plt.tight_layout()\n",
        "plt.show()"
      ],
      "metadata": {
        "colab": {
          "base_uri": "https://localhost:8080/",
          "height": 906
        },
        "id": "DX5PPHahVSTF",
        "outputId": "f929f446-7ef4-409d-beb9-e8f1bd3b7664"
      },
      "execution_count": null,
      "outputs": [
        {
          "output_type": "display_data",
          "data": {
            "text/plain": [
              "<Figure size 800x1000 with 20 Axes>"
            ],
            "image/png": "[encoded data removed]"
          },
          "metadata": {}
        }
      ]
    },
    {
      "cell_type": "markdown",
      "metadata": {
        "id": "XUToj9lTzqKo"
      },
      "source": [
        "### Targeted FGSM"
      ]
    },
    {
      "cell_type": "code",
      "execution_count": null,
      "metadata": {
        "id": "zLnRzrFlzqKo"
      },
      "outputs": [],
      "source": [
        "def targeted_fgsm_attack(image, targeted, epsilon, data_grad):\n",
        "    sign_data_grad = data_grad.sign()\n",
        "\n",
        "    if targeted:\n",
        "      perturbed_image = image - epsilon*sign_data_grad\n",
        "    else:\n",
        "      perturbed_image = image + epsilon*sign_data_grad\n",
        "\n",
        "    perturbed_image = torch.clamp(perturbed_image, 0, 1)\n",
        "    return perturbed_image"
      ]
    },
    {
      "cell_type": "code",
      "execution_count": null,
      "metadata": {
        "id": "08Vz2qGOzqKp"
      },
      "outputs": [],
      "source": [
        "def test_targeted_fgsm_attack(model, device, dataloader, targeted=False, epsilon=0.2, target_label=7):\n",
        "     # Accuracy counter\n",
        "    correct = 0\n",
        "    total = 0\n",
        "    target = 0\n",
        "\n",
        "    for data, label in dataloader:\n",
        "        if (data.shape[0] != 64):\n",
        "            break\n",
        "        data, label = data.to(device), label.to(device)\n",
        "        data.requires_grad = True\n",
        "        output = model(data)\n",
        "        init_pred = output.argmax(1, keepdim=True) # get the index of the max log-probability\n",
        "\n",
        "        if targeted:\n",
        "          loss = F.cross_entropy(output, torch.tensor([target_label]*64).to(device))\n",
        "        else:\n",
        "          loss = F.cross_entropy(output, label)\n",
        "\n",
        "        model.zero_grad()\n",
        "        loss.backward()\n",
        "        data_grad = data.grad.data\n",
        "        data_denorm = denormalize(data)\n",
        "        perturbed_data = targeted_fgsm_attack(data_denorm, targeted, epsilon, data_grad)\n",
        "        perturbed_data_normalized = transforms.Normalize((0.1307,), (0.3081,))(perturbed_data)\n",
        "        output = model(perturbed_data_normalized)\n",
        "\n",
        "        # Check for success\n",
        "        final_pred = output.argmax(1, keepdim=True) # get the index of the max log-probability\n",
        "        for i in range(len(final_pred)):\n",
        "            if final_pred[i] == label[i]:\n",
        "                correct+=1\n",
        "            if final_pred[i] == target_label:\n",
        "                target+=1\n",
        "            total += 1\n",
        "\n",
        "    # Calculate final accuracy for this epsilon\n",
        "    final_acc = correct/float(total)\n",
        "    print(f\"Epsilon: {epsilon}\\tTest Accuracy = {correct} / {total} = {final_acc}\\tTarget Score = {target}/{total}\")\n",
        "\n",
        "    # Return the accuracy and an adversarial example\n",
        "    return final_acc\n"
      ]
    },
    {
      "cell_type": "code",
      "execution_count": null,
      "metadata": {
        "colab": {
          "base_uri": "https://localhost:8080/",
          "height": 556
        },
        "id": "8F3kF1hXzqKp",
        "outputId": "92e82036-1930-42fb-ae9e-3b276ca97185"
      },
      "outputs": [
        {
          "output_type": "stream",
          "name": "stdout",
          "text": [
            "Epsilon: 0\tTest Accuracy = 9816 / 9984 = 0.9831730769230769\tTarget Score = 1025/9984\n",
            "Epsilon: 0.05\tTest Accuracy = 9760 / 9984 = 0.9775641025641025\tTarget Score = 1077/9984\n",
            "Epsilon: 0.15\tTest Accuracy = 8612 / 9984 = 0.8625801282051282\tTarget Score = 1452/9984\n",
            "Epsilon: 0.3\tTest Accuracy = 2614 / 9984 = 0.26181891025641024\tTarget Score = 1870/9984\n"
          ]
        },
        {
          "output_type": "display_data",
          "data": {
            "text/plain": [
              "<Figure size 500x500 with 1 Axes>"
            ],
            "image/png": "[encoded data removed]"
          },
          "metadata": {}
        }
      ],
      "source": [
        "accuracies = []\n",
        "\n",
        "test_loader = torch.utils.data.DataLoader(\n",
        "    datasets.MNIST('./data', train=False, download=True, transform=transforms.Compose([\n",
        "            transforms.ToTensor(),\n",
        "            transforms.Normalize((0.1307,), (0.3081,)),\n",
        "            ])),\n",
        "        batch_size=64, shuffle=True)\n",
        "\n",
        "# Run test for each epsilon\n",
        "for eps in epsilons:\n",
        "    acc = test_targeted_fgsm_attack(model, device, test_loader, True, eps)\n",
        "    accuracies.append(acc)\n",
        "\n",
        "plt.figure(figsize=(5,5))\n",
        "plt.plot(epsilons, accuracies, \"*-\")\n",
        "plt.yticks(np.arange(0, 1.1, step=0.1))\n",
        "plt.xticks(np.arange(0, .35, step=0.05))\n",
        "plt.title(\"Accuracy vs Epsilon\")\n",
        "plt.xlabel(\"Epsilon\")\n",
        "plt.ylabel(\"Accuracy\")\n",
        "plt.show()"
      ]
    },
    {
      "cell_type": "markdown",
      "metadata": {
        "id": "80TKlDKNzqKq"
      },
      "source": [
        "Accuracy always decreases with the increase of the epsilon value, but it also makes the perturbation more perceptible. Hence, it may not always be the best choice to use the highest epsilon value.\n",
        "\n",
        "At epsilons of 0.3, it seems to become very perceptible to humans."
      ]
    },
    {
      "cell_type": "markdown",
      "metadata": {
        "id": "LUBP41odzqKq"
      },
      "source": [
        "## PGD Attack"
      ]
    },
    {
      "cell_type": "code",
      "execution_count": null,
      "metadata": {
        "id": "8JvsrPrJzqKq"
      },
      "outputs": [],
      "source": [
        "def untargeted_pgd_attack(image, data_grad, num_iter, alpha=0.01, epsilon=0.2):\n",
        "    perturbed_image = image.clone().detach()\n",
        "\n",
        "    for _ in range(num_iter):\n",
        "        with torch.no_grad():\n",
        "            perturbed_image += alpha * data_grad.sign()\n",
        "            perturbed_image = torch.max(torch.min(perturbed_image, image + epsilon), image - epsilon)\n",
        "            perturbed_image = torch.clamp(perturbed_image, 0, 1)\n",
        "\n",
        "    return perturbed_image"
      ]
    },
    {
      "cell_type": "code",
      "execution_count": null,
      "metadata": {
        "id": "iBsKnpUazqKr",
        "outputId": "369f6d7e-fa20-429b-905c-4efb42247ead",
        "colab": {
          "base_uri": "https://localhost:8080/",
          "height": 556
        }
      },
      "outputs": [
        {
          "output_type": "stream",
          "name": "stdout",
          "text": [
            "Epsilon: 0\tTest Accuracy = 9832 / 10000 = 0.9832\n",
            "Epsilon: 0.05\tTest Accuracy = 9559 / 10000 = 0.9559\n",
            "Epsilon: 0.15\tTest Accuracy = 7411 / 10000 = 0.7411\n",
            "Epsilon: 0.3\tTest Accuracy = 1172 / 10000 = 0.1172\n"
          ]
        },
        {
          "output_type": "display_data",
          "data": {
            "text/plain": [
              "<Figure size 500x500 with 1 Axes>"
            ],
            "image/png": "[encoded data removed]"
          },
          "metadata": {}
        }
      ],
      "source": [
        "def test_untargeted_pgd_attack(model, device, dataloader, epsilon=0.2, alpha=0.01, num_iter=40):\n",
        "    correct = 0\n",
        "    total = 0\n",
        "\n",
        "    # Loop over all examples in test set\n",
        "    for data, label in dataloader:\n",
        "        data, label = data.to(device), label.to(device)\n",
        "        data.requires_grad = True\n",
        "        output = model(data)\n",
        "        init_pred = output.argmax(1, keepdim=True) # get the index of the max log-probability\n",
        "        loss = F.cross_entropy(output, label)\n",
        "        model.zero_grad()\n",
        "        loss.backward()\n",
        "        data_grad = data.grad.data\n",
        "        data_denorm = denormalize(data)\n",
        "\n",
        "        perturbed_data = untargeted_pgd_attack(data_denorm, data_grad, num_iter, alpha, epsilon)\n",
        "        perturbed_data_normalized = transforms.Normalize((0.1307,), (0.3081,))(perturbed_data)\n",
        "\n",
        "        output = model(perturbed_data_normalized)\n",
        "\n",
        "        # Check for success\n",
        "        final_pred = output.argmax(1, keepdim=True) # get the index of the max log-probability\n",
        "        # correct += final_pred.eq(label.view_as(final_pred)).sum().item()\n",
        "        for i in range(len(final_pred)):\n",
        "            if final_pred[i] == label[i]:\n",
        "                correct+=1\n",
        "            total += 1\n",
        "        # total += len(label)\n",
        "\n",
        "    # Calculate final accuracy for this epsilon\n",
        "    final_acc = correct/float(len(dataloader.dataset))\n",
        "    print(f\"Epsilon: {epsilon}\\tTest Accuracy = {correct} / {len(dataloader.dataset)} = {final_acc}\")\n",
        "\n",
        "    # Return the accuracy and an adversarial example\n",
        "    return final_acc\n",
        "\n",
        "\n",
        "epsilons = [0, .05, .15, .3]\n",
        "accuracies = []\n",
        "\n",
        "# Run test for each epsilon\n",
        "for eps in epsilons:\n",
        "    acc = test_untargeted_pgd_attack(model, device, test_loader, eps)\n",
        "    accuracies.append(acc)\n",
        "\n",
        "plt.figure(figsize=(5,5))\n",
        "plt.plot(epsilons, accuracies, \"*-\")\n",
        "plt.yticks(np.arange(0, 1.1, step=0.1))\n",
        "plt.xticks(np.arange(0, .35, step=0.05))\n",
        "plt.title(\"Accuracy vs Epsilon\")\n",
        "plt.xlabel(\"Epsilon\")\n",
        "plt.ylabel(\"Accuracy\")\n",
        "plt.show()"
      ]
    },
    {
      "cell_type": "markdown",
      "metadata": {
        "id": "TMiN_IEuzqKs"
      },
      "source": [
        "# Adversarial Training"
      ]
    },
    {
      "cell_type": "markdown",
      "source": [
        "### FGSM &mdash; Untargeted"
      ],
      "metadata": {
        "id": "a4BFoQ4SaU-e"
      }
    },
    {
      "cell_type": "code",
      "execution_count": null,
      "metadata": {
        "id": "lmB7b8W1zqKs",
        "outputId": "93f1b804-606b-4599-e9ce-e3d616d39720"
      },
      "outputs": [
        {
          "name": "stdout",
          "output_type": "stream",
          "text": [
            "Epoch [1/10] \t Test Accuracy: 88.37%\n",
            "Epoch [2/10] \t Test Accuracy: 90.91%\n",
            "Epoch [3/10] \t Test Accuracy: 91.84%\n",
            "Epoch [4/10] \t Test Accuracy: 93.1%\n",
            "Epoch [5/10] \t Test Accuracy: 93.12%\n",
            "Epoch [6/10] \t Test Accuracy: 94.14%\n",
            "Epoch [7/10] \t Test Accuracy: 94.44%\n",
            "Epoch [8/10] \t Test Accuracy: 94.75%\n",
            "Epoch [9/10] \t Test Accuracy: 95.24%\n",
            "Epoch [10/10] \t Test Accuracy: 95.78%\n"
          ]
        }
      ],
      "source": [
        "robust_fgsm_un_model = Net()\n",
        "robust_fgsm_un_model = robust_fgsm_un_model.to(device)\n",
        "\n",
        "optimizer = optim.SGD(robust_fgsm_un_model.parameters(), lr=0.01)\n",
        "epoch_acc = []\n",
        "\n",
        "correct = 0\n",
        "total = 0\n",
        "with torch.no_grad():\n",
        "    for images, labels in test_loader:\n",
        "        images, labels = images.to(device), labels.to(device)\n",
        "        outputs = robust_fgsm_un_model(images)\n",
        "        _, predicted = torch.max(outputs.data, 1)\n",
        "        total += labels.size(0)\n",
        "        correct += (predicted == labels).sum().item()\n",
        "\n",
        "accuracy = 100 * correct / total\n",
        "epoch_acc.append(accuracy)\n",
        "print(f\"Test Accuracy: {accuracy}%\\n\")\n",
        "\n",
        "num_epochs = 10\n",
        "for epoch in range(num_epochs):\n",
        "    for images, labels in train_loader:\n",
        "        images, labels = images.to(device), labels.to(device)\n",
        "        images.requires_grad = True\n",
        "        outputs = robust_fgsm_un_model(images.to(device))\n",
        "        loss = F.cross_entropy(outputs, labels.to(device))\n",
        "        optimizer.zero_grad()\n",
        "        loss.backward()\n",
        "        images_grad = images.grad.data\n",
        "\n",
        "        epsilon = 0.2\n",
        "        images_adv = images + epsilon * images_grad.sign()\n",
        "        images_adv = torch.clamp(images_adv, 0, 1)\n",
        "\n",
        "        # Compute loss between predicted output on adversarial example and true label\n",
        "        outputs_adv = robust_fgsm_un_model(images_adv.to(device))\n",
        "        loss_adv = F.cross_entropy(outputs_adv, labels.to(device))\n",
        "\n",
        "        optimizer.zero_grad()\n",
        "        loss_adv.backward()\n",
        "        optimizer.step()\n",
        "\n",
        "    # Evaluate robust_fgsm_un_model's performance on testing dataloader\n",
        "    correct = 0\n",
        "    total = 0\n",
        "    with torch.no_grad():\n",
        "        for images, labels in test_loader:\n",
        "            images, labels = images.to(device), labels.to(device)\n",
        "            outputs = robust_fgsm_un_model(images)\n",
        "            _, predicted = torch.max(outputs.data, 1)\n",
        "            total += labels.size(0)\n",
        "            correct += (predicted == labels).sum().item()\n",
        "\n",
        "    accuracy = 100 * correct / total\n",
        "    epoch_acc.append(accuracy)\n",
        "    print(f\"Epoch [{epoch+1}/{num_epochs}] \\t Test Accuracy: {accuracy}%\")\n"
      ]
    },
    {
      "cell_type": "code",
      "execution_count": null,
      "metadata": {
        "id": "mROVHBORzqKs",
        "outputId": "716abe0a-2dcf-4d96-a2fa-f79367aa6612"
      },
      "outputs": [
        {
          "name": "stdout",
          "output_type": "stream",
          "text": [
            "Epsilon: 0.2\tTest Accuracy = 7135 / 10000 = 0.7135\n"
          ]
        },
        {
          "data": {
            "text/plain": [
              "0.7135"
            ]
          },
          "execution_count": 235,
          "metadata": {},
          "output_type": "execute_result"
        }
      ],
      "source": [
        "test_untargeted_fgsm_attack(robust_fgsm_un_model, device, test_loader, 0.2)"
      ]
    },
    {
      "cell_type": "code",
      "execution_count": null,
      "metadata": {
        "id": "JojyWV29zqKs",
        "outputId": "cc562007-35e2-4fe9-bc84-fc61940a2a1d"
      },
      "outputs": [
        {
          "name": "stdout",
          "output_type": "stream",
          "text": [
            "Epsilon: 0.2\tTest Accuracy = 5070 / 10000 = 0.507\n"
          ]
        },
        {
          "data": {
            "text/plain": [
              "0.507"
            ]
          },
          "execution_count": 236,
          "metadata": {},
          "output_type": "execute_result"
        }
      ],
      "source": [
        "test_untargeted_fgsm_attack(model, device, test_loader, 0.2)"
      ]
    },
    {
      "cell_type": "markdown",
      "metadata": {
        "id": "NuxvKXVIzqKt"
      },
      "source": [
        "## PGD &mdash; Untargeted"
      ]
    },
    {
      "cell_type": "code",
      "execution_count": null,
      "metadata": {
        "id": "4VPY9Tb7zqKt",
        "outputId": "871ec69c-a5e5-49db-e93d-ef0bb0412221"
      },
      "outputs": [
        {
          "name": "stdout",
          "output_type": "stream",
          "text": [
            "Test Accuracy: 7.46%\n",
            "\n",
            "Epoch [1/10] \t Test Accuracy: 88.8%\n",
            "Epoch [2/10] \t Test Accuracy: 91.5%\n",
            "Epoch [3/10] \t Test Accuracy: 92.23%\n",
            "Epoch [4/10] \t Test Accuracy: 92.59%\n",
            "Epoch [5/10] \t Test Accuracy: 93.8%\n",
            "Epoch [6/10] \t Test Accuracy: 94.21%\n",
            "Epoch [7/10] \t Test Accuracy: 94.28%\n",
            "Epoch [8/10] \t Test Accuracy: 94.93%\n",
            "Epoch [9/10] \t Test Accuracy: 95.42%\n",
            "Epoch [10/10] \t Test Accuracy: 95.75%\n"
          ]
        }
      ],
      "source": [
        "robust_pgd_untargeted_model = Net()\n",
        "robust_pgd_untargeted_model = robust_pgd_untargeted_model.to(device)\n",
        "\n",
        "optimizer = optim.SGD(robust_pgd_untargeted_model.parameters(), lr=0.01)\n",
        "epoch_acc = []\n",
        "\n",
        "correct = 0\n",
        "total = 0\n",
        "with torch.no_grad():\n",
        "    for images, labels in test_loader:\n",
        "        images, labels = images.to(device), labels.to(device)\n",
        "        outputs = robust_pgd_untargeted_model(images)\n",
        "        _, predicted = torch.max(outputs.data, 1)\n",
        "        total += labels.size(0)\n",
        "        correct += (predicted == labels).sum().item()\n",
        "\n",
        "accuracy = 100 * correct / total\n",
        "epoch_acc.append(accuracy)\n",
        "print(f\"Test Accuracy: {accuracy}%\\n\")\n",
        "\n",
        "num_epochs = 10\n",
        "for epoch in range(num_epochs):\n",
        "    for images, labels in train_loader:\n",
        "        if (images.shape[0] != 64):\n",
        "            break\n",
        "        images, labels = images.to(device), labels.to(device)\n",
        "        images.requires_grad = True\n",
        "        outputs = robust_pgd_untargeted_model(images.to(device))\n",
        "        loss = F.cross_entropy(outputs, labels.to(device))\n",
        "        optimizer.zero_grad()\n",
        "        loss.backward()\n",
        "        images_grad = images.grad.data\n",
        "\n",
        "        epsilon = 0.2\n",
        "        images_adv = untargeted_pgd_attack(images, images_grad, 40, 0.01, 0.2)\n",
        "\n",
        "        # Compute loss between predicted output on adversarial example and target label\n",
        "        outputs_adv = robust_pgd_untargeted_model(images_adv.to(device))\n",
        "        loss_adv = F.cross_entropy(outputs_adv, labels.to(device))\n",
        "\n",
        "        optimizer.zero_grad()\n",
        "        loss_adv.backward()\n",
        "        optimizer.step()\n",
        "\n",
        "    # Evaluate robust_pgd_untargeted_model's performance on testing dataloader\n",
        "    correct = 0\n",
        "    total = 0\n",
        "    with torch.no_grad():\n",
        "        for images, labels in test_loader:\n",
        "            images, labels = images.to(device), labels.to(device)\n",
        "            outputs = robust_pgd_untargeted_model(images)\n",
        "            _, predicted = torch.max(outputs.data, 1)\n",
        "            total += labels.size(0)\n",
        "            correct += (predicted == labels).sum().item()\n",
        "\n",
        "    accuracy = 100 * correct / total\n",
        "    epoch_acc.append(accuracy)\n",
        "    print(f\"Epoch [{epoch+1}/{num_epochs}] \\t Test Accuracy: {accuracy}%\")"
      ]
    },
    {
      "cell_type": "code",
      "execution_count": null,
      "metadata": {
        "id": "CeAToyk-zqKu",
        "outputId": "15c7766e-f4a6-48e9-d344-90ba92d6c642"
      },
      "outputs": [
        {
          "name": "stdout",
          "output_type": "stream",
          "text": [
            "Epsilon: 0.2\tTest Accuracy = 6879 / 10000 = 0.6879\n"
          ]
        },
        {
          "data": {
            "text/plain": [
              "0.6879"
            ]
          },
          "execution_count": 243,
          "metadata": {},
          "output_type": "execute_result"
        }
      ],
      "source": [
        "test_untargeted_pgd_attack(robust_pgd_untargeted_model, device, test_loader)"
      ]
    },
    {
      "cell_type": "code",
      "execution_count": null,
      "metadata": {
        "id": "q41VjaxDzqKu",
        "outputId": "f5f84687-13dd-44c7-d07e-c8e04b31ef52"
      },
      "outputs": [
        {
          "name": "stdout",
          "output_type": "stream",
          "text": [
            "Epsilon: 0.2\tTest Accuracy = 5070 / 10000 = 0.507\n"
          ]
        },
        {
          "data": {
            "text/plain": [
              "0.507"
            ]
          },
          "execution_count": 244,
          "metadata": {},
          "output_type": "execute_result"
        }
      ],
      "source": [
        "test_untargeted_pgd_attack(model, device, test_loader)"
      ]
    },
    {
      "cell_type": "markdown",
      "source": [
        "# Text Based attacks\n",
        "\n",
        "- https://github.com/QData/TextAttack\n",
        "- LLM Attacks: https://llm-attacks.org/"
      ],
      "metadata": {
        "id": "mtdVNF_bfnQi"
      }
    },
    {
      "cell_type": "markdown",
      "source": [
        "- Download text attack and explore the methods  \n",
        "- Pick an example and augment it in few ways (2+)\n",
        "- Download the bert model, and use it for attack"
      ],
      "metadata": {
        "id": "Olmbug6G0Vno"
      }
    },
    {
      "cell_type": "code",
      "source": [],
      "metadata": {
        "id": "wnu637Uhqtnv"
      },
      "execution_count": null,
      "outputs": []
    },
    {
      "cell_type": "markdown",
      "source": [
        "# Inconsistency - SaGE\n",
        "\n",
        "- https://aclanthology.org/2024.lrec-main.1243/\n"
      ],
      "metadata": {
        "id": "qMbK3n7iroO5"
      }
    }
  ],
  "metadata": {
    "kernelspec": {
      "display_name": "Python 3",
      "name": "python3"
    },
    "language_info": {
      "codemirror_mode": {
        "name": "ipython",
        "version": 3
      },
      "file_extension": ".py",
      "mimetype": "text/x-python",
      "name": "python",
      "nbconvert_exporter": "python",
      "pygments_lexer": "ipython3",
      "version": "3.10.12"
    },
    "colab": {
      "provenance": []
    }
  },
  "nbformat": 4,
  "nbformat_minor": 0
}